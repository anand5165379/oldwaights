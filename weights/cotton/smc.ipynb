{
 "cells": [
  {
   "cell_type": "code",
   "execution_count": 1,
   "id": "fcfdee54",
   "metadata": {},
   "outputs": [],
   "source": [
    "import os\n",
    "import cv2\n",
    "import shutil\n",
    "import numpy as np\n",
    "from PIL import Image\n",
    "import shutil\n",
    "from scipy.spatial.distance import cdist\n",
    "import time\n",
    "from imutils import paths\n",
    "from matplotlib import pyplot as plt\n",
    "import random\n",
    "import math\n",
    "from tqdm import tqdm\n",
    "\n",
    "\n",
    "import zipfile\n",
    "import os \n",
    "import cv2\n",
    "\n",
    "\n",
    "\n",
    "import warnings\n",
    "warnings.filterwarnings('ignore')\n",
    "import shutil\n",
    "import os\n",
    "import pickle\n",
    "import pandas as pd\n",
    "import numpy as np\n",
    "from numpy.matlib import repmat\n",
    "import zipfile\n",
    "from PIL import Image\n",
    "from matplotlib import pyplot as plt\n",
    "\n",
    "from tensorflow.keras.models import load_model\n",
    "from tensorflow.keras.optimizers import SGD\n",
    "from tensorflow.keras.preprocessing import image\n",
    "\n",
    "from tqdm import tqdm\n",
    "from matplotlib import pyplot as plt\n",
    "from PIL import Image\n",
    "from imutils import paths\n",
    "\n"
   ]
  },
  {
   "cell_type": "code",
   "execution_count": 2,
   "id": "9ead7331",
   "metadata": {},
   "outputs": [
    {
     "name": "stdout",
     "output_type": "stream",
     "text": [
      "for classification > smc_cotton_v1_without_decoder.h5, classes ['bad', 'good']\n"
     ]
    }
   ],
   "source": [
    "\n",
    "os.environ['TF_FORCE_GPU_ALLOW_GROWTH'] = 'true'\n",
    "os.environ['TF_CPP_MIN_LOG_LEVEL'] = '3'\n",
    "\n",
    "# utils path\n",
    "classifier_model_path = 'smc_cotton_v1_without_decoder.h5'\n",
    "\n",
    "smc_classes = pickle.load(open('smc_cotton_v1_class_names.pkl', 'rb'))['class_names']\n",
    "print('for classification > {}, classes {}'.format(classifier_model_path, smc_classes))"
   ]
  },
  {
   "cell_type": "code",
   "execution_count": 3,
   "id": "703f6626",
   "metadata": {},
   "outputs": [],
   "source": [
    "#@title smc class\n",
    "\n",
    "import tensorflow as tf\n",
    "def my_init(shape, dtype=None):\n",
    "    initializer = tf.keras.initializers.he_uniform(seed = 1)\n",
    "    return initializer(shape, dtype=dtype)\n",
    "\n",
    "def _no_loss(y_true, y_pred):\n",
    "    '''\n",
    "    loss function is not required for inference\n",
    "    '''\n",
    "    return np.float32(0)\n",
    "\n",
    "classifier = load_model(classifier_model_path,  compile=False)\n",
    "\n",
    "# classifier.compile(\n",
    "#     optimizer=SGD(),\n",
    "#     loss={\n",
    "#         'decoder_o/p':_no_loss, # (uncomment only if AEC model)\n",
    "#         'classifier_o/p': _no_loss\n",
    "#     }\n",
    "# )\n",
    "\n",
    "def show(objs, titles, structure='LR', figsize=(10, 5), clims=False, axes=False, xlabels=False):\n",
    "    '''\n",
    "    utility function to show plots (subplots)\n",
    "    '''\n",
    "    plt.style.use('default')\n",
    "    plt.figure(figsize=figsize)\n",
    "    for i, (obj, name) in enumerate(zip(objs, titles)):\n",
    "        if structure == 'LR': plt.subplot(1, len(titles), i+1)\n",
    "        elif structure == 'TB': plt.subplot(len(titles), 1, i+1)\n",
    "        plt.imshow(obj)\n",
    "        if axes: plt.axis(axes[i])\n",
    "        else: plt.axis('off')\n",
    "        if xlabels: plt.xlabel(xlabels[i])\n",
    "        if clims: plt.clim(clims[i])\n",
    "        plt.title(name)\n",
    "    plt.show()\n",
    "\n",
    "def predict_seed_types(im_path, dsize=(448, 224)):\n",
    "    '''\n",
    "    predict from path.. (later)\n",
    "    '''\n",
    "    img = image.load_img(im_path, color_mode='rgb', target_size=dsize)\n",
    "    img = image.img_to_array(img).astype('float32') / 255.0\n",
    "\n",
    "    y = classifier.predict(np.expand_dims(img, axis=0))\n",
    "    y = smc_classes[np.argmax(y)]\n",
    "    return y\n",
    "    "
   ]
  },
  {
   "cell_type": "code",
   "execution_count": 20,
   "id": "011b7769",
   "metadata": {},
   "outputs": [],
   "source": [
    "x='HY_COTTON_ANKUR_PUSHKAR_BG-II'\n",
    "inp_smc = x\n",
    "out_smc='smc/'+x"
   ]
  },
  {
   "cell_type": "code",
   "execution_count": 21,
   "id": "68d10081",
   "metadata": {},
   "outputs": [],
   "source": [
    "path = inp_smc\n",
    "new_path = out_smc"
   ]
  },
  {
   "cell_type": "code",
   "execution_count": 22,
   "id": "d7135b8c",
   "metadata": {},
   "outputs": [
    {
     "name": "stdout",
     "output_type": "stream",
     "text": [
      "Total samples: 6185\n"
     ]
    },
    {
     "data": {
      "text/html": [
       "<div>\n",
       "<style scoped>\n",
       "    .dataframe tbody tr th:only-of-type {\n",
       "        vertical-align: middle;\n",
       "    }\n",
       "\n",
       "    .dataframe tbody tr th {\n",
       "        vertical-align: top;\n",
       "    }\n",
       "\n",
       "    .dataframe thead th {\n",
       "        text-align: right;\n",
       "    }\n",
       "</style>\n",
       "<table border=\"1\" class=\"dataframe\">\n",
       "  <thead>\n",
       "    <tr style=\"text-align: right;\">\n",
       "      <th></th>\n",
       "      <th>img_path</th>\n",
       "    </tr>\n",
       "  </thead>\n",
       "  <tbody>\n",
       "    <tr>\n",
       "      <th>4931</th>\n",
       "      <td>HY_COTTON_ANKUR_PUSHKAR_BG-II/img_163271953415...</td>\n",
       "    </tr>\n",
       "    <tr>\n",
       "      <th>3264</th>\n",
       "      <td>HY_COTTON_ANKUR_PUSHKAR_BG-II/img_163271864250...</td>\n",
       "    </tr>\n",
       "    <tr>\n",
       "      <th>1653</th>\n",
       "      <td>HY_COTTON_ANKUR_PUSHKAR_BG-II/img_163247996978...</td>\n",
       "    </tr>\n",
       "    <tr>\n",
       "      <th>2607</th>\n",
       "      <td>HY_COTTON_ANKUR_PUSHKAR_BG-II/img_163271826721...</td>\n",
       "    </tr>\n",
       "    <tr>\n",
       "      <th>2732</th>\n",
       "      <td>HY_COTTON_ANKUR_PUSHKAR_BG-II/img_163271833906...</td>\n",
       "    </tr>\n",
       "  </tbody>\n",
       "</table>\n",
       "</div>"
      ],
      "text/plain": [
       "                                               img_path\n",
       "4931  HY_COTTON_ANKUR_PUSHKAR_BG-II/img_163271953415...\n",
       "3264  HY_COTTON_ANKUR_PUSHKAR_BG-II/img_163271864250...\n",
       "1653  HY_COTTON_ANKUR_PUSHKAR_BG-II/img_163247996978...\n",
       "2607  HY_COTTON_ANKUR_PUSHKAR_BG-II/img_163271826721...\n",
       "2732  HY_COTTON_ANKUR_PUSHKAR_BG-II/img_163271833906..."
      ]
     },
     "execution_count": 22,
     "metadata": {},
     "output_type": "execute_result"
    }
   ],
   "source": [
    "\n",
    "img_paths = []\n",
    "main_types = []\n",
    "class_labels = []\n",
    "\n",
    "IGNORE = []\n",
    "\n",
    "# for class_ in sorted(os.listdir(path)):\n",
    "#     imgDir = '{}{}'.format(path, class_)\n",
    "#     print('* directory: {}'.format(imgDir))\n",
    "\n",
    "for imgFname in sorted(os.listdir(path)):\n",
    "    if imgFname.endswith('.jpg'):\n",
    "        #img_paths.append('{}/{}'.format(imgDir, imgFname))\n",
    "        img_paths.append(os.path.join(path,imgFname))\n",
    "        #class_labels.append(class_)\n",
    "            \n",
    "print('Total samples: {}'.format(len(img_paths)))\n",
    "\n",
    "data = pd.DataFrame()\n",
    "data['img_path'] = img_paths\n",
    "# data['class_label'] = class_labels\n",
    "data = data.sample(frac=1.0, random_state=0)\n",
    "data.tail()"
   ]
  },
  {
   "cell_type": "code",
   "execution_count": 23,
   "id": "3a3399eb",
   "metadata": {},
   "outputs": [
    {
     "data": {
      "text/plain": [
       "[None, None]"
      ]
     },
     "execution_count": 23,
     "metadata": {},
     "output_type": "execute_result"
    }
   ],
   "source": [
    "from shutil import copyfile, rmtree\n",
    "\n",
    "\n",
    "dir_ = os.path.join(new_path,\"good\") #path.replace('extracted', 'extracted_good_seeds')\n",
    "for clas in smc_classes:\n",
    "  # other_dir = path.replace('extracted', 'extracted_other_seeds')\n",
    "  #os.mkdir(clas)\n",
    "  other_dir = os.path.join(new_path,\"bad\")\n",
    "\n",
    "\n",
    "\n",
    "try:\n",
    "  rmtree(dir_)\n",
    "  rmtree(other_dir)\n",
    "except: pass\n",
    "os.mkdir(dir_)\n",
    "\n",
    "os.mkdir(other_dir)\n",
    "[os.mkdir('{}/{}'.format(other_dir, class_)) for class_ in smc_classes]"
   ]
  },
  {
   "cell_type": "code",
   "execution_count": 24,
   "id": "dccb9235",
   "metadata": {},
   "outputs": [
    {
     "name": "stdout",
     "output_type": "stream",
     "text": [
      "CPU times: user 3min 50s, sys: 7.91 s, total: 3min 58s\n",
      "Wall time: 3min 54s\n"
     ]
    }
   ],
   "source": [
    "\n",
    "%%time\n",
    "\n",
    "num_good_seeds = 0\n",
    "\n",
    "for i, im_path in enumerate(data['img_path']):\n",
    "  smc_label = predict_seed_types(im_path)\n",
    "  if smc_label == 'good_seed':\n",
    "      num_good_seeds += 1\n",
    "      print('{}/{} (Total good seeds: {}) Processing {}---------|'\n",
    "            .format(i+1, len(data), num_good_seeds,im_path), end='\\r')\n",
    "      \n",
    "      # save a copy to new dir_\n",
    "      copyfile(im_path, im_path.replace(path, dir_))\n",
    "  else:\n",
    "      copyfile(im_path, '{}/{}/{}'.format(other_dir, smc_label, im_path.split('/')[-1]))"
   ]
  },
  {
   "cell_type": "code",
   "execution_count": null,
   "id": "45ea85f3",
   "metadata": {},
   "outputs": [],
   "source": []
  },
  {
   "cell_type": "code",
   "execution_count": null,
   "id": "e9224d96",
   "metadata": {},
   "outputs": [],
   "source": []
  },
  {
   "cell_type": "code",
   "execution_count": null,
   "id": "458126a6",
   "metadata": {},
   "outputs": [],
   "source": []
  }
 ],
 "metadata": {
  "kernelspec": {
   "display_name": "Python 3",
   "language": "python",
   "name": "python3"
  },
  "language_info": {
   "codemirror_mode": {
    "name": "ipython",
    "version": 3
   },
   "file_extension": ".py",
   "mimetype": "text/x-python",
   "name": "python",
   "nbconvert_exporter": "python",
   "pygments_lexer": "ipython3",
   "version": "3.8.8"
  }
 },
 "nbformat": 4,
 "nbformat_minor": 5
}
