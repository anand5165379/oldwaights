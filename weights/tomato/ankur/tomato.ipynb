{
 "cells": [
  {
   "cell_type": "code",
   "execution_count": 1,
   "id": "c4d99c44",
   "metadata": {},
   "outputs": [],
   "source": [
    "\n",
    "import zipfile\n",
    "import os \n",
    "import cv2\n",
    "from dde_v2 import *\n"
   ]
  },
  {
   "cell_type": "code",
   "execution_count": 2,
   "id": "5cc6d3d7",
   "metadata": {},
   "outputs": [],
   "source": [
    "def RunSegmentor(input_image_path, output_image_path):\n",
    "    for index, image in enumerate(tqdm(os.listdir(f\"{input_image_path}\"))):\n",
    "        img = cv2.imread(f\"{input_image_path}/{image}\")\n",
    "        try:\n",
    "            imgs = segment_from_np_image(img)\n",
    "        except:\n",
    "            pass\n",
    "       \n",
    "       \n",
    "        if imgs is not None:\n",
    "            [cv2.imwrite(f\"{output_image_path}/{image}_ext{j}.jpg\", cv2.cvtColor(i, cv2.COLOR_RGB2BGR)) for j, i in enumerate(imgs)]"
   ]
  },
  {
   "cell_type": "code",
   "execution_count": null,
   "id": "985ee282",
   "metadata": {},
   "outputs": [],
   "source": [
    "input_img_path = inp_ex\n",
    "output_img_path = out_ex\n",
    "RunSegmentor(input_img_path, output_img_path)"
   ]
  }
 ],
 "metadata": {
  "kernelspec": {
   "display_name": "Python 3",
   "language": "python",
   "name": "python3"
  },
  "language_info": {
   "codemirror_mode": {
    "name": "ipython",
    "version": 3
   },
   "file_extension": ".py",
   "mimetype": "text/x-python",
   "name": "python",
   "nbconvert_exporter": "python",
   "pygments_lexer": "ipython3",
   "version": "3.8.8"
  }
 },
 "nbformat": 4,
 "nbformat_minor": 5
}
